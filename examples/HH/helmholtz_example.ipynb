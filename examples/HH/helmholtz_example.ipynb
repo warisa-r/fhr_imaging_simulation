{
 "cells": [
  {
   "cell_type": "code",
   "execution_count": 16,
   "id": "df752b2a",
   "metadata": {},
   "outputs": [],
   "source": [
    "from mpi4py import MPI\n",
    "\n",
    "import numpy as np\n",
    "\n",
    "import dolfinx.fem.petsc\n",
    "import ufl"
   ]
  },
  {
   "cell_type": "markdown",
   "id": "aab4d2ec",
   "metadata": {},
   "source": [
    "An example from https://jsdokken.com/fenics22-tutorial/helmholtz.html"
   ]
  },
  {
   "cell_type": "code",
   "execution_count": 17,
   "id": "d813071a",
   "metadata": {},
   "outputs": [
    {
     "name": "stdout",
     "output_type": "stream",
     "text": [
      "Using <class 'numpy.complex128'>.\n"
     ]
    }
   ],
   "source": [
    "import sys\n",
    "\n",
    "from petsc4py import PETSc\n",
    "\n",
    "if not np.issubdtype(PETSc.ScalarType, np.complexfloating):\n",
    "    print(\"This tutorial requires complex number support\")\n",
    "    sys.exit(0)\n",
    "else:\n",
    "    print(f\"Using {PETSc.ScalarType}.\")"
   ]
  },
  {
   "cell_type": "code",
   "execution_count": 18,
   "id": "971fab92",
   "metadata": {},
   "outputs": [],
   "source": [
    "# wavenumber in free space (air)\n",
    "k0 = 10 * np.pi\n",
    "\n",
    "# Corresponding wavelength\n",
    "lmbda = 2 * np.pi / k0\n",
    "\n",
    "# Polynomial degree\n",
    "degree = 6\n",
    "\n",
    "# Mesh order\n",
    "mesh_order = 2"
   ]
  },
  {
   "cell_type": "code",
   "execution_count": 19,
   "id": "feed06e4",
   "metadata": {},
   "outputs": [
    {
     "name": "stdout",
     "output_type": "stream",
     "text": [
      "Info    : Reading 'domain.msh'...\n",
      "Info    : 15 entities\n",
      "Info    : 2985 nodes\n",
      "Info    : 1444 elements\n",
      "Info    : Done reading 'domain.msh'\n"
     ]
    }
   ],
   "source": [
    "from dolfinx.io import gmshio\n",
    "from mesh_generation import generate_mesh\n",
    "\n",
    "# MPI communicator\n",
    "comm = MPI.COMM_WORLD\n",
    "\n",
    "file_name = \"domain.msh\"\n",
    "generate_mesh(file_name, lmbda, order=mesh_order)\n",
    "mesh, cell_tags, _ = gmshio.read_from_msh(file_name, comm, rank=0, gdim=2)"
   ]
  },
  {
   "cell_type": "code",
   "execution_count": 20,
   "id": "e8d555cb",
   "metadata": {},
   "outputs": [],
   "source": [
    "W = dolfinx.fem.functionspace(mesh, (\"DG\", 0))\n",
    "k = dolfinx.fem.Function(W)\n",
    "k.x.array[:] = k0\n",
    "k.x.array[cell_tags.find(1)] = 3 * k0"
   ]
  },
  {
   "cell_type": "code",
   "execution_count": 21,
   "id": "0b908cda",
   "metadata": {},
   "outputs": [],
   "source": [
    "import matplotlib.pyplot as plt\n",
    "import pyvista\n",
    "\n",
    "from dolfinx.plot import vtk_mesh\n",
    "\n",
    "#pyvista.start_xvfb()\n",
    "pyvista.set_plot_theme(\"paraview\")\n",
    "sargs = dict(\n",
    "    title_font_size=25,\n",
    "    label_font_size=20,\n",
    "    fmt=\"%.2e\",\n",
    "    color=\"black\",\n",
    "    position_x=0.1,\n",
    "    position_y=0.8,\n",
    "    width=0.8,\n",
    "    height=0.1,\n",
    ")\n",
    "\n",
    "\n",
    "def export_function(grid, name, show_mesh=False, tessellate=False):\n",
    "    grid.set_active_scalars(name)\n",
    "    plotter = pyvista.Plotter(window_size=(700, 700))\n",
    "    t_grid = grid.tessellate() if tessellate else grid\n",
    "    plotter.add_mesh(t_grid, show_edges=False, scalar_bar_args=sargs)\n",
    "    if show_mesh:\n",
    "        V = dolfinx.fem.functionspace(mesh, (\"Lagrange\", 1))\n",
    "        grid_mesh = pyvista.UnstructuredGrid(*vtk_mesh(V))\n",
    "        plotter.add_mesh(grid_mesh, style=\"wireframe\", line_width=0.1, color=\"k\")\n",
    "        plotter.view_xy()\n",
    "    plotter.view_xy()\n",
    "    plotter.camera.zoom(1.3)\n",
    "    plotter.export_html(f\"./{name}.html\")"
   ]
  },
  {
   "cell_type": "code",
   "execution_count": 22,
   "id": "9ed5d6ef",
   "metadata": {},
   "outputs": [],
   "source": [
    "grid = pyvista.UnstructuredGrid(*vtk_mesh(mesh))\n",
    "grid.cell_data[\"wavenumber\"] = k.x.array.real"
   ]
  },
  {
   "cell_type": "code",
   "execution_count": 23,
   "id": "285f8c32",
   "metadata": {},
   "outputs": [
    {
     "name": "stderr",
     "output_type": "stream",
     "text": [
      "ERROR:root:Could not find a decent config\n",
      "\u001b[0m\u001b[31m2025-07-01 12:35:19.128 (  64.532s) [    7F2B14807440]vtkXOpenGLRenderWindow.:256    ERR| vtkXOpenGLRenderWindow (0x5c37a37545c0): Could not find a decent config\n",
      "\u001b[0m\n",
      "\u001b[0m\u001b[33m2025-07-01 12:35:19.131 (  64.535s) [    7F2B14807440]vtkXOpenGLRenderWindow.:502   WARN| vtkXOpenGLRenderWindow (0x5c37a37545c0): Could not find a decent visual\n",
      "\u001b[0m\n",
      "\u001b[0m\u001b[33m2025-07-01 12:35:19.131 (  64.535s) [    7F2B14807440] vtkEGLRenderWindow.cxx:385   WARN| vtkEGLRenderWindow (0x5c37a2f50900): Setting an EGL display to device index: -1 require EGL_EXT_device_base EGL_EXT_platform_device EGL_EXT_platform_base extensions\u001b[0m\n",
      "\u001b[0m\u001b[33m2025-07-01 12:35:19.131 (  64.535s) [    7F2B14807440] vtkEGLRenderWindow.cxx:390   WARN| vtkEGLRenderWindow (0x5c37a2f50900): Attempting to use EGL_DEFAULT_DISPLAY...\u001b[0m\n",
      "\u001b[0m\u001b[33m2025-07-01 12:35:19.131 (  64.535s) [    7F2B14807440] vtkEGLRenderWindow.cxx:395   WARN| vtkEGLRenderWindow (0x5c37a2f50900): Could not initialize a device. Exiting...\u001b[0m\n",
      "\u001b[0m\u001b[33m2025-07-01 12:35:19.131 (  64.535s) [    7F2B14807440]vtkOpenGLRenderWindow.c:793   WARN| vtkEGLRenderWindow (0x5c37a2f50900): Failed to initialize OpenGL functions!\u001b[0m\n",
      "\u001b[0m\u001b[33m2025-07-01 12:35:19.131 (  64.535s) [    7F2B14807440]vtkOpenGLRenderWindow.c:812   WARN| vtkEGLRenderWindow (0x5c37a2f50900): Unable to find a valid OpenGL 3.2 or later implementation. Please update your video card driver to the latest version. If you are using Mesa please make sure you have version 11.2 or later and make sure your driver in Mesa supports OpenGL 3.2 such as llvmpipe or openswr. If you are on windows and using Microsoft remote desktop note that it only supports OpenGL 3.2 with nvidia quadro cards. You can use other remoting software such as nomachine to avoid this issue.\u001b[0m\n",
      "\u001b[0m\u001b[33m2025-07-01 12:35:19.132 (  64.536s) [    7F2B14807440]vtkOSOpenGLRenderWindow:152   WARN| libOSMesa not found. It appears that OSMesa is not installed in your system. Please install the OSMesa library from your distribution's package manager.\u001b[0m\n"
     ]
    }
   ],
   "source": [
    "export_function(grid, \"wavenumber\", show_mesh=True, tessellate=True)"
   ]
  },
  {
   "cell_type": "markdown",
   "id": "1de48bd9",
   "metadata": {},
   "source": [
    "Next, is the step of defining the function of the boundary condition source term"
   ]
  },
  {
   "cell_type": "code",
   "execution_count": 24,
   "id": "25298216",
   "metadata": {},
   "outputs": [],
   "source": [
    "n = ufl.FacetNormal(mesh)\n",
    "x = ufl.SpatialCoordinate(mesh)\n",
    "uinc = ufl.exp(1j * k * x[0])\n",
    "g = ufl.dot(ufl.grad(uinc), n) - 1j * k * uinc"
   ]
  },
  {
   "cell_type": "markdown",
   "id": "9d15eee8",
   "metadata": {},
   "source": [
    "Then implement the weak form:"
   ]
  },
  {
   "cell_type": "code",
   "execution_count": 25,
   "id": "bd908a55",
   "metadata": {},
   "outputs": [],
   "source": [
    "import basix.ufl\n",
    "\n",
    "element = basix.ufl.element(\"Lagrange\", mesh.topology.cell_name(), degree)\n",
    "V = dolfinx.fem.functionspace(mesh, element)\n",
    "\n",
    "u = ufl.TrialFunction(V)\n",
    "v = ufl.TestFunction(V)"
   ]
  },
  {
   "cell_type": "code",
   "execution_count": 26,
   "id": "6a480b97",
   "metadata": {},
   "outputs": [],
   "source": [
    "a = (\n",
    "    -ufl.inner(ufl.grad(u), ufl.grad(v)) * ufl.dx\n",
    "    + k**2 * ufl.inner(u, v) * ufl.dx\n",
    "    - 1j * k * ufl.inner(u, v) * ufl.ds\n",
    ")\n",
    "L = ufl.inner(g, v) * ufl.ds"
   ]
  },
  {
   "cell_type": "markdown",
   "id": "9ce1d74e",
   "metadata": {},
   "source": [
    "Linear solver\n",
    "Next, we will solve the problem using a direct solver (LU)."
   ]
  },
  {
   "cell_type": "code",
   "execution_count": 27,
   "id": "6dc74f6a",
   "metadata": {},
   "outputs": [],
   "source": [
    "opt = {\"ksp_type\": \"preonly\", \"pc_type\": \"lu\"}\n",
    "problem = dolfinx.fem.petsc.LinearProblem(a, L, petsc_options=opt)\n",
    "uh = problem.solve()\n",
    "uh.name = \"u\""
   ]
  },
  {
   "cell_type": "code",
   "execution_count": 28,
   "id": "2d3c4cb5",
   "metadata": {},
   "outputs": [],
   "source": [
    "topology, cells, geometry = vtk_mesh(V)\n",
    "grid = pyvista.UnstructuredGrid(topology, cells, geometry)\n",
    "grid.point_data[\"Abs(u)\"] = np.abs(uh.x.array)\n",
    "\n",
    "abs_u_vals = np.abs(uh.x.array)"
   ]
  },
  {
   "cell_type": "code",
   "execution_count": 29,
   "id": "0375c2b6",
   "metadata": {},
   "outputs": [
    {
     "name": "stderr",
     "output_type": "stream",
     "text": [
      "ERROR:root:Could not find a decent config\n",
      "\u001b[0m\u001b[31m2025-07-01 12:35:19.713 (  65.117s) [    7F2B14807440]vtkXOpenGLRenderWindow.:256    ERR| vtkXOpenGLRenderWindow (0x5c37a16fe5c0): Could not find a decent config\n",
      "\u001b[0m\n",
      "\u001b[0m\u001b[33m2025-07-01 12:35:19.715 (  65.119s) [    7F2B14807440]vtkXOpenGLRenderWindow.:502   WARN| vtkXOpenGLRenderWindow (0x5c37a16fe5c0): Could not find a decent visual\n",
      "\u001b[0m\n",
      "\u001b[0m\u001b[33m2025-07-01 12:35:19.715 (  65.119s) [    7F2B14807440] vtkEGLRenderWindow.cxx:385   WARN| vtkEGLRenderWindow (0x5c37a2f553d0): Setting an EGL display to device index: -1 require EGL_EXT_device_base EGL_EXT_platform_device EGL_EXT_platform_base extensions\u001b[0m\n",
      "\u001b[0m\u001b[33m2025-07-01 12:35:19.715 (  65.120s) [    7F2B14807440] vtkEGLRenderWindow.cxx:390   WARN| vtkEGLRenderWindow (0x5c37a2f553d0): Attempting to use EGL_DEFAULT_DISPLAY...\u001b[0m\n",
      "\u001b[0m\u001b[33m2025-07-01 12:35:19.715 (  65.120s) [    7F2B14807440] vtkEGLRenderWindow.cxx:395   WARN| vtkEGLRenderWindow (0x5c37a2f553d0): Could not initialize a device. Exiting...\u001b[0m\n",
      "\u001b[0m\u001b[33m2025-07-01 12:35:19.715 (  65.120s) [    7F2B14807440]vtkOpenGLRenderWindow.c:793   WARN| vtkEGLRenderWindow (0x5c37a2f553d0): Failed to initialize OpenGL functions!\u001b[0m\n",
      "\u001b[0m\u001b[33m2025-07-01 12:35:19.715 (  65.120s) [    7F2B14807440]vtkOpenGLRenderWindow.c:812   WARN| vtkEGLRenderWindow (0x5c37a2f553d0): Unable to find a valid OpenGL 3.2 or later implementation. Please update your video card driver to the latest version. If you are using Mesa please make sure you have version 11.2 or later and make sure your driver in Mesa supports OpenGL 3.2 such as llvmpipe or openswr. If you are on windows and using Microsoft remote desktop note that it only supports OpenGL 3.2 with nvidia quadro cards. You can use other remoting software such as nomachine to avoid this issue.\u001b[0m\n",
      "\u001b[0m\u001b[33m2025-07-01 12:35:19.716 (  65.120s) [    7F2B14807440]vtkOSOpenGLRenderWindow:152   WARN| libOSMesa not found. It appears that OSMesa is not installed in your system. Please install the OSMesa library from your distribution's package manager.\u001b[0m\n"
     ]
    }
   ],
   "source": [
    "export_function(grid, \"Abs(u)\", show_mesh=False, tessellate=True)"
   ]
  },
  {
   "cell_type": "code",
   "execution_count": 30,
   "id": "1ea96f72",
   "metadata": {},
   "outputs": [],
   "source": [
    "from dolfinx.io import VTXWriter\n",
    "\n",
    "u_abs = dolfinx.fem.Function(V, dtype=np.float64)\n",
    "u_abs.x.array[:] = np.abs(uh.x.array)\n",
    "# VTX can write higher order functions\n",
    "with VTXWriter(comm, \"out_high_order.bp\", [u_abs], engine=\"BP4\") as f:\n",
    "    f.write(0.0)"
   ]
  }
 ],
 "metadata": {
  "kernelspec": {
   "display_name": "fenicsx-env",
   "language": "python",
   "name": "python3"
  },
  "language_info": {
   "codemirror_mode": {
    "name": "ipython",
    "version": 3
   },
   "file_extension": ".py",
   "mimetype": "text/x-python",
   "name": "python",
   "nbconvert_exporter": "python",
   "pygments_lexer": "ipython3",
   "version": "3.12.11"
  }
 },
 "nbformat": 4,
 "nbformat_minor": 5
}
